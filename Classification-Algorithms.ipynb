{
 "cells": [
  {
   "cell_type": "markdown",
   "id": "d16290da",
   "metadata": {},
   "source": [
    "# KNN"
   ]
  },
  {
   "cell_type": "code",
   "execution_count": 2,
   "id": "70e23323",
   "metadata": {},
   "outputs": [
    {
     "name": "stdout",
     "output_type": "stream",
     "text": [
      "Accuracy of K-NN classifier on training set: 0.79\n",
      "Accuracy of K-NN classifier on test set: 0.71\n",
      "TP - True Negative 108\n",
      "FP - False Positive 15\n",
      "FN - False Negative 40\n",
      "TP - True Positive 29\n",
      "Accuracy Rate: 0.7135416666666666\n",
      "Misclassification Rate: 0.2864583333333333\n",
      "0.64917\n"
     ]
    }
   ],
   "source": [
    "# Importing the libraries\n",
    "import numpy as np\n",
    "import matplotlib.pyplot as plt\n",
    "import pandas as pd\n",
    "from sklearn.model_selection import train_test_split\n",
    "from sklearn.metrics import accuracy_score, roc_auc_score, confusion_matrix\n",
    "from sklearn.preprocessing import StandardScaler\n",
    "from sklearn.neighbors import KNeighborsClassifier\n",
    "\n",
    "# Importing the dataset\n",
    "dataset = pd.read_csv('dataset/diabetes.csv')\n",
    "X = dataset.iloc[:, :-1].values\n",
    "y = dataset.iloc[:, 8].values\n",
    "\n",
    "# Splitting the dataset into the Training set and Test set\n",
    "X_train, X_test, y_train, y_test = train_test_split(X, y, test_size=0.25, random_state=42)\n",
    "\n",
    "# Feature Scaling\n",
    "sc = StandardScaler()\n",
    "X_train = sc.fit_transform(X_train)\n",
    "X_test = sc.transform(X_test)\n",
    "\n",
    "# Fitting K-NN to the Training set\n",
    "knnClassifier = KNeighborsClassifier(n_neighbors=18)  # Fixed number of neighbors\n",
    "knnClassifier.fit(X_train, y_train)\n",
    "\n",
    "# Print accuracy on training and test set\n",
    "print('Accuracy of K-NN classifier on training set: {:.2f}'.format(knnClassifier.score(X_train, y_train)))\n",
    "print('Accuracy of K-NN classifier on test set: {:.2f}'.format(knnClassifier.score(X_test, y_test)))\n",
    "\n",
    "# Predicting the Test set results\n",
    "y_pred = knnClassifier.predict(X_test)\n",
    "\n",
    "# Making the Confusion Matrix\n",
    "cm = confusion_matrix(y_test, y_pred)\n",
    "\n",
    "print('TP - True Negative {}'.format(cm[0, 0]))\n",
    "print('FP - False Positive {}'.format(cm[0, 1]))\n",
    "print('FN - False Negative {}'.format(cm[1, 0]))\n",
    "print('TP - True Positive {}'.format(cm[1, 1]))\n",
    "print('Accuracy Rate: {}'.format(np.divide(np.sum([cm[0, 0], cm[1, 1]]), np.sum(cm))))\n",
    "print('Misclassification Rate: {}'.format(np.divide(np.sum([cm[0, 1], cm[1, 0]]), np.sum(cm))))\n",
    "\n",
    "# Calculate and print ROC-AUC score\n",
    "print(round(roc_auc_score(y_test, y_pred), 5))\n"
   ]
  },
  {
   "cell_type": "markdown",
   "id": "06c57dd7",
   "metadata": {},
   "source": [
    "# Decision Tree"
   ]
  },
  {
   "cell_type": "code",
   "execution_count": 3,
   "id": "2bfb7251",
   "metadata": {},
   "outputs": [
    {
     "name": "stdout",
     "output_type": "stream",
     "text": [
      "Accuracy on training set: 0.852\n",
      "Accuracy on test set: 0.729\n",
      "TP - True Negative 92\n",
      "FP - False Positive 31\n",
      "FN - False Negative 21\n",
      "TP - True Positive 48\n",
      "Accuracy Rate: 0.7291666666666666\n",
      "Misclassification Rate: 0.2708333333333333\n",
      "0.72181\n"
     ]
    }
   ],
   "source": [
    "# Importing the libraries\n",
    "import numpy as np\n",
    "import matplotlib.pyplot as plt\n",
    "import pandas as pd\n",
    "from sklearn.tree import DecisionTreeClassifier\n",
    "from sklearn.model_selection import train_test_split\n",
    "from sklearn.metrics import accuracy_score, roc_auc_score, confusion_matrix\n",
    "from sklearn.preprocessing import StandardScaler\n",
    "\n",
    "# Importing the dataset\n",
    "dataset = pd.read_csv('dataset/diabetes.csv')\n",
    "X = dataset.iloc[:, :-1].values\n",
    "y = dataset.iloc[:, 8].values\n",
    "\n",
    "# Splitting the dataset into the Training set and Test set\n",
    "X_train, X_test, y_train, y_test = train_test_split(X, y, test_size=0.25, random_state=42)\n",
    "\n",
    "# Feature Scaling\n",
    "sc = StandardScaler()\n",
    "X_train = sc.fit_transform(X_train)\n",
    "X_test = sc.transform(X_test)\n",
    "\n",
    "# Fitting Decision Tree to the Training set with fixed hyperparameters\n",
    "tree = DecisionTreeClassifier(max_depth=6, max_features=4, min_samples_split=5, random_state=42)\n",
    "tree.fit(X_train, y_train)\n",
    "\n",
    "# Print accuracy on training and test set\n",
    "print(\"Accuracy on training set: {:.3f}\".format(tree.score(X_train, y_train)))\n",
    "print(\"Accuracy on test set: {:.3f}\".format(tree.score(X_test, y_test)))\n",
    "\n",
    "# Predicting the Test set results\n",
    "y_pred = tree.predict(X_test)\n",
    "\n",
    "# Making the Confusion Matrix\n",
    "cm = confusion_matrix(y_test, y_pred)\n",
    "\n",
    "print('TP - True Negative {}'.format(cm[0, 0]))\n",
    "print('FP - False Positive {}'.format(cm[0, 1]))\n",
    "print('FN - False Negative {}'.format(cm[1, 0]))\n",
    "print('TP - True Positive {}'.format(cm[1, 1]))\n",
    "print('Accuracy Rate: {}'.format(np.divide(np.sum([cm[0, 0], cm[1, 1]]), np.sum(cm))))\n",
    "print('Misclassification Rate: {}'.format(np.divide(np.sum([cm[0, 1], cm[1, 0]]), np.sum(cm))))\n",
    "\n",
    "# Calculate and print ROC-AUC score\n",
    "print(round(roc_auc_score(y_test, y_pred), 5))\n"
   ]
  },
  {
   "cell_type": "markdown",
   "id": "d52e339b",
   "metadata": {},
   "source": [
    "# Logistic Regression "
   ]
  },
  {
   "cell_type": "code",
   "execution_count": 6,
   "id": "f29a55a9",
   "metadata": {},
   "outputs": [
    {
     "name": "stdout",
     "output_type": "stream",
     "text": [
      "Accuracy on training set: 0.780\n",
      "Accuracy on test set: 0.729\n",
      "TP - True Negative 95\n",
      "FP - False Positive 28\n",
      "FN - False Negative 24\n",
      "TP - True Positive 45\n",
      "Accuracy Rate: 0.729\n",
      "Misclassification Rate: 0.271\n",
      "ROC-AUC Score: 0.71227\n"
     ]
    }
   ],
   "source": [
    "# Importing the libraries\n",
    "import numpy as np\n",
    "import matplotlib.pyplot as plt\n",
    "import pandas as pd\n",
    "from sklearn.model_selection import train_test_split\n",
    "from sklearn.linear_model import LogisticRegression\n",
    "from sklearn.metrics import accuracy_score, roc_auc_score, confusion_matrix\n",
    "from sklearn.preprocessing import StandardScaler\n",
    "\n",
    "# Importing the dataset\n",
    "dataset = pd.read_csv('dataset/diabetes.csv')\n",
    "X = dataset.iloc[:, :-1].values\n",
    "y = dataset.iloc[:, 8].values\n",
    "\n",
    "# Splitting the dataset into the Training set and Test set\n",
    "X_train, X_test, y_train, y_test = train_test_split(X, y, test_size=0.25, random_state=42)\n",
    "\n",
    "# Feature Scaling\n",
    "sc = StandardScaler()\n",
    "X_train = sc.fit_transform(X_train)\n",
    "X_test = sc.transform(X_test)\n",
    "\n",
    "# Fitting Logistic Regression to the Training set\n",
    "logistic_regression_classifier = LogisticRegression(random_state=42)\n",
    "logistic_regression_classifier.fit(X_train, y_train)\n",
    "\n",
    "# Print accuracy on training and test set\n",
    "print(\"Accuracy on training set: {:.3f}\".format(logistic_regression_classifier.score(X_train, y_train)))\n",
    "print(\"Accuracy on test set: {:.3f}\".format(logistic_regression_classifier.score(X_test, y_test)))\n",
    "\n",
    "# Predicting the Test set results\n",
    "y_pred = logistic_regression_classifier.predict(X_test)\n",
    "\n",
    "# Making the Confusion Matrix\n",
    "cm = confusion_matrix(y_test, y_pred)\n",
    "\n",
    "print('TP - True Negative {}'.format(cm[0, 0]))\n",
    "print('FP - False Positive {}'.format(cm[0, 1]))\n",
    "print('FN - False Negative {}'.format(cm[1, 0]))\n",
    "print('TP - True Positive {}'.format(cm[1, 1]))\n",
    "print('Accuracy Rate: {:.3f}'.format(accuracy_score(y_test, y_pred)))\n",
    "print('Misclassification Rate: {:.3f}'.format(1 - accuracy_score(y_test, y_pred)))\n",
    "\n",
    "# Calculate and print ROC-AUC score\n",
    "print('ROC-AUC Score: {:.5f}'.format(roc_auc_score(y_test, y_pred)))\n"
   ]
  },
  {
   "cell_type": "markdown",
   "id": "6c7d0802",
   "metadata": {},
   "source": [
    "# SVM "
   ]
  },
  {
   "cell_type": "code",
   "execution_count": 4,
   "id": "da98b340",
   "metadata": {},
   "outputs": [
    {
     "name": "stdout",
     "output_type": "stream",
     "text": [
      "Accuracy on training set: 0.832\n",
      "Accuracy on test set: 0.729\n",
      "TP - True Negative 101\n",
      "FP - False Positive 22\n",
      "FN - False Negative 30\n",
      "TP - True Positive 39\n",
      "Accuracy Rate: 0.729\n",
      "Misclassification Rate: 0.271\n",
      "ROC-AUC Score: 0.69318\n"
     ]
    }
   ],
   "source": [
    "# Importing the libraries\n",
    "import numpy as np\n",
    "import matplotlib.pyplot as plt\n",
    "import pandas as pd\n",
    "from sklearn.model_selection import train_test_split\n",
    "from sklearn.svm import SVC\n",
    "from sklearn.metrics import accuracy_score, roc_auc_score, confusion_matrix\n",
    "from sklearn.preprocessing import StandardScaler\n",
    "\n",
    "# Importing the dataset\n",
    "dataset = pd.read_csv('dataset/diabetes.csv')\n",
    "X = dataset.iloc[:, :-1].values\n",
    "y = dataset.iloc[:, 8].values\n",
    "\n",
    "# Splitting the dataset into the Training set and Test set\n",
    "X_train, X_test, y_train, y_test = train_test_split(X, y, test_size=0.25, random_state=42)\n",
    "\n",
    "# Feature Scaling\n",
    "sc = StandardScaler()\n",
    "X_train = sc.fit_transform(X_train)\n",
    "X_test = sc.transform(X_test)\n",
    "\n",
    "# Fitting SVM to the Training set with fixed hyperparameters\n",
    "svm_classifier = SVC(kernel='rbf', C=1.0, gamma='scale', random_state=42)\n",
    "svm_classifier.fit(X_train, y_train)\n",
    "\n",
    "# Print accuracy on training and test set\n",
    "print(\"Accuracy on training set: {:.3f}\".format(svm_classifier.score(X_train, y_train)))\n",
    "print(\"Accuracy on test set: {:.3f}\".format(svm_classifier.score(X_test, y_test)))\n",
    "\n",
    "# Predicting the Test set results\n",
    "y_pred = svm_classifier.predict(X_test)\n",
    "\n",
    "# Making the Confusion Matrix\n",
    "cm = confusion_matrix(y_test, y_pred)\n",
    "\n",
    "print('TP - True Negative {}'.format(cm[0, 0]))\n",
    "print('FP - False Positive {}'.format(cm[0, 1]))\n",
    "print('FN - False Negative {}'.format(cm[1, 0]))\n",
    "print('TP - True Positive {}'.format(cm[1, 1]))\n",
    "print('Accuracy Rate: {:.3f}'.format(accuracy_score(y_test, y_pred)))\n",
    "print('Misclassification Rate: {:.3f}'.format(1 - accuracy_score(y_test, y_pred)))\n",
    "\n",
    "# Calculate and print ROC-AUC score\n",
    "print('ROC-AUC Score: {:.5f}'.format(roc_auc_score(y_test, y_pred)))\n"
   ]
  },
  {
   "cell_type": "markdown",
   "id": "b4d54614",
   "metadata": {},
   "source": [
    "# Gaussian Naive bayes "
   ]
  },
  {
   "cell_type": "code",
   "execution_count": 5,
   "id": "316cc24e",
   "metadata": {
    "scrolled": true
   },
   "outputs": [
    {
     "name": "stdout",
     "output_type": "stream",
     "text": [
      "Accuracy on training set: 0.764\n",
      "Accuracy on test set: 0.734\n",
      "TP - True Negative 94\n",
      "FP - False Positive 29\n",
      "FN - False Negative 22\n",
      "TP - True Positive 47\n",
      "Accuracy Rate: 0.734\n",
      "Misclassification Rate: 0.266\n"
     ]
    }
   ],
   "source": [
    "# Importing the libraries\n",
    "import numpy as np\n",
    "import matplotlib.pyplot as plt\n",
    "import pandas as pd\n",
    "from sklearn.model_selection import train_test_split\n",
    "from sklearn.naive_bayes import GaussianNB\n",
    "from sklearn.metrics import accuracy_score, roc_auc_score, confusion_matrix\n",
    "from sklearn.preprocessing import StandardScaler\n",
    "\n",
    "# Importing the dataset\n",
    "dataset = pd.read_csv('dataset/diabetes.csv')\n",
    "X = dataset.iloc[:, :-1].values\n",
    "y = dataset.iloc[:, 8].values\n",
    "\n",
    "# Splitting the dataset into the Training set and Test set\n",
    "X_train, X_test, y_train, y_test = train_test_split(X, y, test_size=0.25, random_state=42)\n",
    "\n",
    "# Feature Scaling (Naive Bayes is not sensitive to feature scaling, but it's good practice)\n",
    "sc = StandardScaler()\n",
    "X_train = sc.fit_transform(X_train)\n",
    "X_test = sc.transform(X_test)\n",
    "\n",
    "# Fitting Gaussian Naive Bayes to the Training set\n",
    "naive_bayes_classifier = GaussianNB()\n",
    "naive_bayes_classifier.fit(X_train, y_train)\n",
    "\n",
    "# Print accuracy on training and test set\n",
    "print(\"Accuracy on training set: {:.3f}\".format(naive_bayes_classifier.score(X_train, y_train)))\n",
    "print(\"Accuracy on test set: {:.3f}\".format(naive_bayes_classifier.score(X_test, y_test)))\n",
    "\n",
    "# Predicting the Test set results\n",
    "y_pred = naive_bayes_classifier.predict(X_test)\n",
    "\n",
    "# Making the Confusion Matrix\n",
    "cm = confusion_matrix(y_test, y_pred)\n",
    "\n",
    "print('TP - True Negative {}'.format(cm[0, 0]))\n",
    "print('FP - False Positive {}'.format(cm[0, 1]))\n",
    "print('FN - False Negative {}'.format(cm[1, 0]))\n",
    "print('TP - True Positive {}'.format(cm[1, 1]))\n",
    "print('Accuracy Rate: {:.3f}'.format(accuracy_score(y_test, y_pred)))\n",
    "print('Misclassification Rate: {:.3f}'.format(1 - accuracy_score(y_test, y_pred)))\n",
    "\n",
    "# Calculate and print ROC-AUC score (Note: Naive Bayes does not provide probability estimates, so ROC-AUC may not be meaningful)\n",
    "# print('ROC-AUC Score: {:.5f}'.format(roc_auc_score(y_test, y_pred)))\n"
   ]
  },
  {
   "cell_type": "markdown",
   "id": "424f16c0",
   "metadata": {},
   "source": [
    "# Corss Validation"
   ]
  },
  {
   "cell_type": "code",
   "execution_count": 8,
   "id": "03135108",
   "metadata": {},
   "outputs": [
    {
     "name": "stdout",
     "output_type": "stream",
     "text": [
      "SVM Accuracy: 0.760 (+/- 0.017)\n",
      "K-NN Accuracy: 0.729 (+/- 0.024)\n",
      "Logistic Regression Accuracy: 0.775 (+/- 0.015)\n",
      "Decision Tree Accuracy: 0.710 (+/- 0.040)\n",
      "Naive Bayes Accuracy: 0.755 (+/- 0.034)\n"
     ]
    }
   ],
   "source": [
    "# Importing the libraries\n",
    "import numpy as np\n",
    "import pandas as pd\n",
    "from sklearn.model_selection import cross_val_score, cross_val_predict, StratifiedKFold\n",
    "from sklearn.preprocessing import StandardScaler\n",
    "from sklearn.svm import SVC\n",
    "from sklearn.neighbors import KNeighborsClassifier\n",
    "from sklearn.linear_model import LogisticRegression\n",
    "from sklearn.tree import DecisionTreeClassifier\n",
    "from sklearn.naive_bayes import GaussianNB\n",
    "\n",
    "# Importing the dataset\n",
    "dataset = pd.read_csv('dataset/diabetes.csv')\n",
    "X = dataset.iloc[:, :-1].values\n",
    "y = dataset.iloc[:, 8].values\n",
    "\n",
    "# Feature Scaling (optional)\n",
    "scaler = StandardScaler()\n",
    "X_scaled = scaler.fit_transform(X)\n",
    "\n",
    "# Create a 5-fold cross-validation strategy\n",
    "cv = StratifiedKFold(n_splits=5, shuffle=True, random_state=42)\n",
    "\n",
    "# SVM\n",
    "svm_classifier = SVC(kernel='rbf', C=1.0, gamma='scale', random_state=42)\n",
    "svm_scores = cross_val_score(svm_classifier, X_scaled, y, cv=cv, scoring='accuracy')\n",
    "print(\"SVM Accuracy: {:.3f} (+/- {:.3f})\".format(np.mean(svm_scores), np.std(svm_scores)))\n",
    "\n",
    "# K-NN\n",
    "knn_classifier = KNeighborsClassifier(n_neighbors=5)  # You can choose an appropriate k value\n",
    "knn_scores = cross_val_score(knn_classifier, X_scaled, y, cv=cv, scoring='accuracy')\n",
    "print(\"K-NN Accuracy: {:.3f} (+/- {:.3f})\".format(np.mean(knn_scores), np.std(knn_scores)))\n",
    "\n",
    "# Logistic Regression\n",
    "logistic_regression_classifier = LogisticRegression(random_state=42)\n",
    "log_reg_scores = cross_val_score(logistic_regression_classifier, X_scaled, y, cv=cv, scoring='accuracy')\n",
    "print(\"Logistic Regression Accuracy: {:.3f} (+/- {:.3f})\".format(np.mean(log_reg_scores), np.std(log_reg_scores)))\n",
    "\n",
    "# Decision Tree\n",
    "tree_classifier = DecisionTreeClassifier(max_depth=6, max_features=4, min_samples_split=5, random_state=42)\n",
    "tree_scores = cross_val_score(tree_classifier, X, y, cv=cv, scoring='accuracy')\n",
    "print(\"Decision Tree Accuracy: {:.3f} (+/- {:.3f})\".format(np.mean(tree_scores), np.std(tree_scores)))\n",
    "\n",
    "# Naive Bayes (Gaussian)\n",
    "naive_bayes_classifier = GaussianNB()\n",
    "nb_scores = cross_val_score(naive_bayes_classifier, X, y, cv=cv, scoring='accuracy')\n",
    "print(\"Naive Bayes Accuracy: {:.3f} (+/- {:.3f})\".format(np.mean(nb_scores), np.std(nb_scores)))\n"
   ]
  },
  {
   "cell_type": "code",
   "execution_count": null,
   "id": "9cecaea4",
   "metadata": {},
   "outputs": [],
   "source": []
  },
  {
   "cell_type": "code",
   "execution_count": null,
   "id": "0f18fd31",
   "metadata": {},
   "outputs": [],
   "source": []
  }
 ],
 "metadata": {
  "kernelspec": {
   "display_name": "Python 3 (ipykernel)",
   "language": "python",
   "name": "python3"
  },
  "language_info": {
   "codemirror_mode": {
    "name": "ipython",
    "version": 3
   },
   "file_extension": ".py",
   "mimetype": "text/x-python",
   "name": "python",
   "nbconvert_exporter": "python",
   "pygments_lexer": "ipython3",
   "version": "3.11.4"
  }
 },
 "nbformat": 4,
 "nbformat_minor": 5
}
